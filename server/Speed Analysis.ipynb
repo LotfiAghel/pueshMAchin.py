{
 "cells": [
  {
   "cell_type": "code",
   "execution_count": 32,
   "id": "e2e29935",
   "metadata": {},
   "outputs": [
    {
     "data": {
      "image/png": "[encoded data removed]",
      "text/plain": [
       "<Figure size 432x288 with 1 Axes>"
      ]
     },
     "metadata": {
      "needs_background": "light"
     },
     "output_type": "display_data"
    },
    {
     "name": "stdout",
     "output_type": "stream",
     "text": [
      "39119\n"
     ]
    }
   ],
   "source": [
    "import matplotlib.pyplot as plt\n",
    "import datetime\n",
    "import pymongo\n",
    "import numpy as np\n",
    "from bson.objectid import ObjectId\n",
    "\n",
    "client = pymongo.MongoClient()\n",
    "db = client['PAM2060']\n",
    "col = db['vision_retries']\n",
    "\n",
    "now = datetime.datetime.now() - datetime.timedelta(hours=3.5)\n",
    "from_time = now - datetime.timedelta(hours=12, days=200)\n",
    "dummy_id = ObjectId.from_datetime(from_time)\n",
    "\n",
    "pens = list(col.find({'component': 'dosing', \"_id\": {\"$gte\": dummy_id}}))\n",
    "data = np.asarray([(now - pen['_id'].generation_time.replace(tzinfo=None)).total_seconds()/60 for pen in pens])\n",
    "\n",
    "\n",
    "bin_minute = 60*24*7\n",
    "bins = np.arange(0, max(data), bin_minute)\n",
    "\n",
    "plt.xlim([min(data)-5, max(data)+5])\n",
    "plt.hist(data, bins=bins, alpha=0.5, weights=(60 / bin_minute)*np.ones_like(data)*24*7)\n",
    "plt.show()\n",
    "print(len(pens))"
   ]
  },
  {
   "cell_type": "code",
   "execution_count": 36,
   "id": "a7e4a9ad",
   "metadata": {},
   "outputs": [
    {
     "data": {
      "image/png": "[encoded data removed]",
      "text/plain": [
       "<Figure size 432x288 with 1 Axes>"
      ]
     },
     "metadata": {
      "needs_background": "light"
     },
     "output_type": "display_data"
    },
    {
     "name": "stdout",
     "output_type": "stream",
     "text": [
      "39324\n"
     ]
    }
   ],
   "source": [
    "import matplotlib.pyplot as plt\n",
    "import datetime\n",
    "import pymongo\n",
    "import numpy as np\n",
    "from bson.objectid import ObjectId\n",
    "\n",
    "client = pymongo.MongoClient()\n",
    "db = client['PAM2060']\n",
    "col = db['vision_retries']\n",
    "\n",
    "\n",
    "now = datetime.datetime.now() - datetime.timedelta(hours=3.5)\n",
    "from_time = now - datetime.timedelta(hours=10000)\n",
    "\n",
    "dummy_id = ObjectId.from_datetime(from_time)\n",
    "\n",
    "pens = list(col.find({'component': 'dosing', \"_id\": {\"$gte\": dummy_id}}))\n",
    "data = np.asarray([(now - pen['_id'].generation_time.replace(tzinfo=None)).total_seconds()/60 for pen in pens])\n",
    "\n",
    "\n",
    "bin_minute = 60*24\n",
    "bins = np.arange(0, max(data), bin_minute)\n",
    "\n",
    "plt.xlim([min(data)-5, max(data)+5])\n",
    "plt.hist(data, bins=bins, alpha=0.5, weights=(60 / bin_minute)*np.ones_like(data) * 24)\n",
    "plt.show()\n",
    "print(len(pens))"
   ]
  }
 ],
 "metadata": {
  "kernelspec": {
   "display_name": "Python 3 (ipykernel)",
   "language": "python",
   "name": "python3"
  },
  "language_info": {
   "codemirror_mode": {
    "name": "ipython",
    "version": 3
   },
   "file_extension": ".py",
   "mimetype": "text/x-python",
   "name": "python",
   "nbconvert_exporter": "python",
   "pygments_lexer": "ipython3",
   "version": "3.8.0"
  }
 },
 "nbformat": 4,
 "nbformat_minor": 5
}
