{
 "cells": [
  {
   "cell_type": "code",
   "execution_count": 32,
   "id": "3837352f",
   "metadata": {
    "scrolled": true
   },
   "outputs": [
    {
     "data": {
      "application/vnd.jupyter.widget-view+json": {
       "model_id": "daf9f8901e0d4b1990129c5b5bcb0a63",
       "version_major": 2,
       "version_minor": 0
      },
      "text/plain": [
       "interactive(children=(IntText(value=101, description='node'), Dropdown(description='component', options=('hold…"
      ]
     },
     "metadata": {},
     "output_type": "display_data"
    },
    {
     "data": {
      "text/plain": [
       "<function __main__.display_all(node, component)>"
      ]
     },
     "execution_count": 32,
     "metadata": {},
     "output_type": "execute_result"
    }
   ],
   "source": [
    "import json\n",
    "import glob\n",
    "from ipywidgets import *\n",
    "import matplotlib.pyplot as plt\n",
    "import cv2\n",
    "\n",
    "\n",
    "def load_data():\n",
    "    with open('annotaion.json') as f:\n",
    "        data = json.loads(f.read())\n",
    "    return data\n",
    "\n",
    "\n",
    "def save_data():\n",
    "    with open('annotaion.json', 'w') as f:\n",
    "        f.write(json.dumps(data, sort_keys=True, indent=4))\n",
    "\n",
    "\n",
    "def display_set(zero, node, component, dataset_name):\n",
    "    roi = data[str(node)][component+'_roi']\n",
    "    dataset = data[str(node)][component][dataset_name]\n",
    "    path = '../../dataset/%s_%d_%s_192.168.44.%d' % (component, node, dataset_name, node)\n",
    "    files = glob.glob(path + '/*.png')\n",
    "\n",
    "    zero_filenames = [filename for filename in files if int(filename.split('/')[-1].split('_')[0]) == zero]\n",
    "\n",
    "\n",
    "    x0 = roi['x0']\n",
    "    x1 = roi['x0'] + roi['dx']\n",
    "    y0 = roi['y0']\n",
    "    y1 = roi['y0'] + roi['dy']\n",
    "\n",
    "    fig, axs = plt.subplots(ncols=3, nrows=1, figsize = (18,5))\n",
    "    fig.suptitle(' | '.join([component, str(node), dataset_name]), size=16)\n",
    "    for index, filename in enumerate(zero_filenames):\n",
    "        image = cv2.imread(filename)[y0:y1,x0:x1,::-1]\n",
    "        if component == 'holder':\n",
    "            midpoint = int(image.shape[1] / 2)\n",
    "            image[:,midpoint:midpoint+1,0] = 255\n",
    "            image[:,midpoint:midpoint+1,1] = 0\n",
    "            image[:,midpoint:midpoint+1,2] = 0\n",
    "        elif component == 'dosing':\n",
    "            midpoint = int(image.shape[0] / 2)\n",
    "            image[midpoint:midpoint+1,:,0] = 255\n",
    "            image[midpoint:midpoint+1,:,1] = 0\n",
    "            image[midpoint:midpoint+1,:,2] = 0\n",
    "\n",
    "        axs[index].imshow(image)\n",
    "        if dataset['zero'] != zero:\n",
    "            dataset['zero'] = zero\n",
    "            save_data()\n",
    "\n",
    "            \n",
    "            \n",
    "def display_all(node, component):\n",
    "    for dataset_name in data[str(node)][component]:\n",
    "        dataset = data[str(node)][component][dataset_name]\n",
    "        interact(display_set,\n",
    "                 zero=widgets.IntText(min=0, max=399, step=1, value=dataset['zero']),\n",
    "                 node=fixed(node),\n",
    "                 component=fixed(component),\n",
    "                 dataset_name=fixed(dataset_name))\n",
    "\n",
    "data = load_data()\n",
    "interact(display_all, node=widgets.IntText(min=101, max=110, step=1, value=101), component=['holder', 'dosing'])\n",
    "\n"
   ]
  }
 ],
 "metadata": {
  "kernelspec": {
   "display_name": "Python 3",
   "language": "python",
   "name": "python3"
  },
  "language_info": {
   "codemirror_mode": {
    "name": "ipython",
    "version": 3
   },
   "file_extension": ".py",
   "mimetype": "text/x-python",
   "name": "python",
   "nbconvert_exporter": "python",
   "pygments_lexer": "ipython3",
   "version": "3.6.9"
  }
 },
 "nbformat": 4,
 "nbformat_minor": 5
}
