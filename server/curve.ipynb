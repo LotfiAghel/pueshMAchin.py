{
 "cells": [
  {
   "cell_type": "code",
   "execution_count": 71,
   "id": "8fa94997",
   "metadata": {},
   "outputs": [
    {
     "name": "stdout",
     "output_type": "stream",
     "text": [
      "length 0.2 vmax 14000.0\n",
      "100 49\n",
      "99 143\n",
      "98 233\n",
      "97 319\n",
      "96 402\n",
      "95 484\n",
      "94 564\n",
      "93 642\n",
      "92 720\n",
      "91 797\n",
      "90 873\n",
      "89 949\n",
      "88 1025\n",
      "87 1101\n",
      "86 1178\n",
      "85 1254\n",
      "84 1331\n",
      "83 1409\n",
      "82 1487\n",
      "81 1566\n",
      "80 1645\n",
      "79 1726\n",
      "78 1808\n",
      "77 1891\n",
      "76 1975\n",
      "75 2061\n",
      "74 2148\n",
      "73 2236\n",
      "72 2327\n",
      "71 1\n",
      "[100, 49, 99, 143, 98, 233, 97, 319, 96, 402, 95, 484, 94, 564, 93, 642, 92, 720, 91, 797, 90, 873, 89, 949, 88, 1025, 87, 1101, 86, 1178, 85, 1254, 84, 1331, 83, 1409, 82, 1487, 81, 1566, 80, 1645, 79, 1726, 78, 1808, 77, 1891, 76, 1975, 75, 2061, 74, 2148, 73, 2236, 72, 2327, 71, 1]\n"
     ]
    }
   ],
   "source": [
    "import numpy as np\n",
    "import matplotlib.pyplot as plt\n",
    "\n",
    "def calc_curve2(Vmax, Amax, J, V0=0, A0=0):\n",
    "    t_reaching_Amax = np.roots([J,A0-Amax])[0]\n",
    "    \n",
    "    t = t_reaching_Amax\n",
    "    v__t_reaching_Amax = V0 + A0*t + .5*J*t**2\n",
    "    print('length', t_reaching_Amax, 'vmax', v__t_reaching_Amax)\n",
    "    XT_t = [0]\n",
    "    while XT_t[-1] < t_reaching_Amax :\n",
    "        r = np.roots([J/6.0, A0/2.0,V0,-len(XT_t)])\n",
    "        XT_t.append(np.real(r[-1]))\n",
    "    #print(XT_t)\n",
    "    \n",
    "    \n",
    "    #plt.plot(XT_t, range(len(XT_t)))\n",
    "    delays = np.round(np.diff(XT_t)*1e6)\n",
    "    delay_change = np.where(delays[:-1] != delays[1:])[0]+1\n",
    "    curve = []\n",
    "    for i in delay_change:\n",
    "        print(int(delays[i-1]), i)\n",
    "        curve.append(int(delays[i-1]))\n",
    "        curve.append(i)\n",
    "    print(int(delays[i-1]) - 1, 1)\n",
    "    curve.append(int(delays[-1]))\n",
    "    curve.append(1)\n",
    "    print(curve)\n",
    "\n",
    "\n",
    "\n",
    "\n",
    "z = calc_curve(\n",
    "    Vmax=50 * 1000,\n",
    "    Amax=30 * 1000,\n",
    "    J=100 * 1000,\n",
    "    V0=10 * 1000,\n",
    "    A0=10 * 1000,\n",
    ")"
   ]
  },
  {
   "cell_type": "code",
   "execution_count": 6,
   "id": "b0274540",
   "metadata": {},
   "outputs": [
    {
     "data": {
      "image/png": "[encoded data removed]",
      "text/plain": [
       "<Figure size 432x288 with 1 Axes>"
      ]
     },
     "metadata": {
      "needs_background": "light"
     },
     "output_type": "display_data"
    },
    {
     "name": "stdout",
     "output_type": "stream",
     "text": [
      "[[50, 102], [49, 189], [48, 190], [47, 193], [46, 182], [45, 196], [44, 184], [43, 203], [42, 186], [41, 206], [40, 216], [39, 211], [38, 229], [37, 228], [36, 237], [35, 258], [34, 271], [33, 275], [32, 301], [31, 310], [30, 338], [29, 355], [28, 384], [27, 423], [26, 432], [25, 486], [24, 524], [23, 583], [22, 645], [21, 680], [20, 808], [19, 854], [18, 1006], [17, 1134], [16, 1297], [15, 1529], [14, 1821], [13, 2318], [12, 2948], [11, 3781], [10, 5336], [9, 8199], [8, 16306], [7, 25083], [6, 13744]]\n"
     ]
    }
   ],
   "source": []
  },
  {
   "cell_type": "code",
   "execution_count": 29,
   "id": "5f84971c",
   "metadata": {},
   "outputs": [
    {
     "ename": "ValueError",
     "evalue": "Input must be a rank-1 array.",
     "output_type": "error",
     "traceback": [
      "\u001b[0;31m---------------------------------------------------------------------------\u001b[0m",
      "\u001b[0;31mValueError\u001b[0m                                Traceback (most recent call last)",
      "\u001b[0;32m<ipython-input-29-aad7500f62b3>\u001b[0m in \u001b[0;36m<module>\u001b[0;34m\u001b[0m\n\u001b[0;32m----> 1\u001b[0;31m \u001b[0mnp\u001b[0m\u001b[0;34m.\u001b[0m\u001b[0mroots\u001b[0m\u001b[0;34m(\u001b[0m\u001b[0;34m[\u001b[0m\u001b[0;34m[\u001b[0m\u001b[0;36m400000\u001b[0m\u001b[0;34m/\u001b[0m\u001b[0;36m6\u001b[0m\u001b[0;34m,\u001b[0m\u001b[0;36m40000\u001b[0m\u001b[0;34m/\u001b[0m\u001b[0;36m2\u001b[0m\u001b[0;34m,\u001b[0m\u001b[0;36m20000\u001b[0m\u001b[0;34m,\u001b[0m\u001b[0;34m-\u001b[0m\u001b[0;36m2\u001b[0m\u001b[0;34m]\u001b[0m\u001b[0;34m,\u001b[0m \u001b[0;34m[\u001b[0m\u001b[0;36m400000\u001b[0m\u001b[0;34m/\u001b[0m\u001b[0;36m6\u001b[0m\u001b[0;34m,\u001b[0m\u001b[0;36m40000\u001b[0m\u001b[0;34m/\u001b[0m\u001b[0;36m2\u001b[0m\u001b[0;34m,\u001b[0m\u001b[0;36m20000\u001b[0m\u001b[0;34m,\u001b[0m\u001b[0;34m-\u001b[0m\u001b[0;36m2\u001b[0m\u001b[0;34m]\u001b[0m\u001b[0;34m,\u001b[0m\u001b[0;34m[\u001b[0m\u001b[0;36m400000\u001b[0m\u001b[0;34m/\u001b[0m\u001b[0;36m6\u001b[0m\u001b[0;34m,\u001b[0m\u001b[0;36m40000\u001b[0m\u001b[0;34m/\u001b[0m\u001b[0;36m2\u001b[0m\u001b[0;34m,\u001b[0m\u001b[0;36m20000\u001b[0m\u001b[0;34m,\u001b[0m\u001b[0;34m-\u001b[0m\u001b[0;36m2\u001b[0m\u001b[0;34m]\u001b[0m\u001b[0;34m]\u001b[0m\u001b[0;34m)\u001b[0m\u001b[0;34m\u001b[0m\u001b[0;34m\u001b[0m\u001b[0m\n\u001b[0m",
      "\u001b[0;32m<__array_function__ internals>\u001b[0m in \u001b[0;36mroots\u001b[0;34m(*args, **kwargs)\u001b[0m\n",
      "\u001b[0;32m~/.local/lib/python3.8/site-packages/numpy/lib/polynomial.py\u001b[0m in \u001b[0;36mroots\u001b[0;34m(p)\u001b[0m\n\u001b[1;32m    229\u001b[0m     \u001b[0mp\u001b[0m \u001b[0;34m=\u001b[0m \u001b[0matleast_1d\u001b[0m\u001b[0;34m(\u001b[0m\u001b[0mp\u001b[0m\u001b[0;34m)\u001b[0m\u001b[0;34m\u001b[0m\u001b[0;34m\u001b[0m\u001b[0m\n\u001b[1;32m    230\u001b[0m     \u001b[0;32mif\u001b[0m \u001b[0mp\u001b[0m\u001b[0;34m.\u001b[0m\u001b[0mndim\u001b[0m \u001b[0;34m!=\u001b[0m \u001b[0;36m1\u001b[0m\u001b[0;34m:\u001b[0m\u001b[0;34m\u001b[0m\u001b[0;34m\u001b[0m\u001b[0m\n\u001b[0;32m--> 231\u001b[0;31m         \u001b[0;32mraise\u001b[0m \u001b[0mValueError\u001b[0m\u001b[0;34m(\u001b[0m\u001b[0;34m\"Input must be a rank-1 array.\"\u001b[0m\u001b[0;34m)\u001b[0m\u001b[0;34m\u001b[0m\u001b[0;34m\u001b[0m\u001b[0m\n\u001b[0m\u001b[1;32m    232\u001b[0m \u001b[0;34m\u001b[0m\u001b[0m\n\u001b[1;32m    233\u001b[0m     \u001b[0;31m# find non-zero array entries\u001b[0m\u001b[0;34m\u001b[0m\u001b[0;34m\u001b[0m\u001b[0;34m\u001b[0m\u001b[0m\n",
      "\u001b[0;31mValueError\u001b[0m: Input must be a rank-1 array."
     ]
    }
   ],
   "source": [
    "np.roots([[400000/6,40000/2,20000,-2], ])"
   ]
  }
 ],
 "metadata": {
  "kernelspec": {
   "display_name": "Python 3",
   "language": "python",
   "name": "python3"
  },
  "language_info": {
   "codemirror_mode": {
    "name": "ipython",
    "version": 3
   },
   "file_extension": ".py",
   "mimetype": "text/x-python",
   "name": "python",
   "nbconvert_exporter": "python",
   "pygments_lexer": "ipython3",
   "version": "3.8.0"
  }
 },
 "nbformat": 4,
 "nbformat_minor": 5
}
