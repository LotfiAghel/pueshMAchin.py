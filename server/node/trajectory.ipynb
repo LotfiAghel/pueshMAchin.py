{
 "cells": [
  {
   "cell_type": "code",
   "execution_count": 1,
   "id": "8fa94997",
   "metadata": {},
   "outputs": [
    {
     "name": "stdout",
     "output_type": "stream",
     "text": [
      "{'index': 0, 'curve_a': [198, 1, 191, 2, 182, 3, 171, 4, 160, 5, 149, 6, 140, 7, 132, 8, 126, 9, 120, 10, 115, 11, 111, 12, 107, 13, 104, 14, 100, 15, 98, 16, 95, 17, 92, 18, 90, 19, 88, 20, 86, 21, 84, 22, 82, 23, 81, 24, 79, 25, 78, 26, 76, 27, 75, 28, 74, 29, 73, 30, 72, 31, 71, 32, 69, 34, 68, 35, 67, 36, 66, 37, 65, 38, 64, 39, 63, 41, 62, 42, 61, 44, 60, 45, 59, 47, 58, 48, 57, 50, 56, 52, 55, 54, 54, 56, 53, 58, 52, 61, 51, 63, 50, 66, 49, 69, 48, 72, 47, 75, 46, 78, 45, 82, 44, 86, 43, 90, 42, 95, 41, 100, 40, 105, 39, 110, 38, 117, 37, 123, 36, 130, 35, 138, 34, 147, 33, 156, 32, 166, 31, 177], 'curve_d': [31, 177, 32, 166, 33, 156, 34, 147, 35, 138, 36, 130, 37, 123, 38, 117, 39, 110, 40, 105, 41, 100, 42, 95, 43, 90, 44, 86, 45, 82, 46, 78, 47, 75, 48, 72, 49, 69, 50, 66, 51, 63, 52, 61, 53, 58, 54, 56, 55, 54, 56, 52, 57, 50, 58, 48, 59, 47, 60, 45, 61, 44, 62, 42, 63, 41, 64, 39, 65, 38, 66, 37, 67, 36, 68, 35, 69, 34, 71, 32, 72, 31, 73, 30, 74, 29, 75, 28, 76, 27, 78, 26, 79, 25, 81, 24, 82, 23, 84, 22, 86, 21, 88, 20, 90, 19, 92, 18, 95, 17, 98, 16, 100, 15, 104, 14, 107, 13, 111, 12, 115, 11, 120, 10, 126, 9, 132, 8, 140, 7, 149, 6, 160, 5, 171, 4, 182, 3, 191, 2, 198, 1]}\n"
     ]
    }
   ],
   "source": [
    "import numpy as np\n",
    "\n",
    "\n",
    "def calc_curve(Vmax, Amax, J, V0, A0, min_delay):\n",
    "    t_reaching_Amax = np.roots([J, A0 - Amax])[-1]\n",
    "\n",
    "    t = t_reaching_Amax\n",
    "    v__t_reaching_Amax = .5 * J * t**2 + A0 * t + V0\n",
    "\n",
    "    dt_gliding_a = (Vmax - v__t_reaching_Amax) / float(Amax)\n",
    "    assert dt_gliding_a > 0\n",
    "\n",
    "    # print(t_reaching_Amax, v__t_reaching_Amax, dt_gliding_a)\n",
    "\n",
    "    XT_t__1 = [0]\n",
    "    while XT_t__1[-1] < t_reaching_Amax:\n",
    "        r = np.roots([J / 6.0, A0 / 2, V0, -len(XT_t__1)])\n",
    "        XT_t__1.append(np.real(r[-1]))\n",
    "    # print(XT_t)\n",
    "\n",
    "    XT_t__2 = [0]\n",
    "    A = Amax\n",
    "    V = v__t_reaching_Amax\n",
    "    while XT_t__2[-1] < dt_gliding_a:\n",
    "        r = np.roots([A / 2., V, -len(XT_t__2)])\n",
    "        XT_t__2.append(np.real(r[-1]))\n",
    "    XT_t__2 = XT_t__2[1:] + XT_t__1[-1]\n",
    "    '''\n",
    "    XT_t__3 = [0]\n",
    "    A = Amax\n",
    "    V = v__t_reaching_Amax + Amax * dt_gliding_a\n",
    "    while XT_t__3[-1] < t_reaching_Amax :\n",
    "        r = np.roots([-J/6.0, A/2., V, -len(XT_t__3)])\n",
    "        XT_t__3.append(np.real(r[-1]))\n",
    "\n",
    "\n",
    "\n",
    "    XT_t__3 = XT_t__3[1:] + XT_t__2[-1]\n",
    "    '''\n",
    "    XT_t = np.concatenate([XT_t__1, XT_t__2])\n",
    "\n",
    "    # plt.plot(XT_t, range(len(XT_t)))\n",
    "    # plt.show()\n",
    "\n",
    "    delays = np.round(np.diff(XT_t) * 1e6)\n",
    "    delay_change = np.where(delays[:-1] != delays[1:])[0] + 1\n",
    "    curve_a = []\n",
    "    for i in delay_change:\n",
    "        # print(int(delays[i-1]), i)\n",
    "        if(min_delay < delays[i - 1] < 200):\n",
    "            curve_a.append(int(delays[i - 1]))\n",
    "            curve_a.append(int(i))\n",
    "\n",
    "    curve_d = [[curve_a[2 * i + 1], curve_a[2 * i]]\n",
    "               for i in range(int(len(curve_a) / 2))]\n",
    "    curve_d = sum(curve_d, [])\n",
    "\n",
    "    curve_d = curve_d[::-1]\n",
    "\n",
    "    curve = {\n",
    "        'index': 0,\n",
    "        'curve_a': curve_a,\n",
    "        'curve_d': curve_d,\n",
    "    }\n",
    "\n",
    "    return curve\n",
    "\n",
    "\n",
    "a = calc_curve(\n",
    "    Vmax=40 * 1000,\n",
    "    Amax=3000 * 1000,\n",
    "    J=3 * 1000 * 1000 * 1000,\n",
    "    A0=300 * 1000,\n",
    "    V0=5 * 1000,\n",
    "    min_delay=30,\n",
    ")\n",
    "print(a)"
   ]
  },
  {
   "cell_type": "code",
   "execution_count": null,
   "id": "b0274540",
   "metadata": {
    "scrolled": true
   },
   "outputs": [],
   "source": []
  },
  {
   "cell_type": "code",
   "execution_count": null,
   "id": "1a39412f",
   "metadata": {
    "scrolled": true
   },
   "outputs": [],
   "source": []
  }
 ],
 "metadata": {
  "kernelspec": {
   "display_name": "Python 3",
   "language": "python",
   "name": "python3"
  },
  "language_info": {
   "codemirror_mode": {
    "name": "ipython",
    "version": 3
   },
   "file_extension": ".py",
   "mimetype": "text/x-python",
   "name": "python",
   "nbconvert_exporter": "python",
   "pygments_lexer": "ipython3",
   "version": "3.8.0"
  }
 },
 "nbformat": 4,
 "nbformat_minor": 5
}
